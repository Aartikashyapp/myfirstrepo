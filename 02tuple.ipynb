{
 "cells": [
  {
   "cell_type": "code",
   "execution_count": 10,
   "id": "da479b86",
   "metadata": {},
   "outputs": [
    {
     "name": "stdout",
     "output_type": "stream",
     "text": [
      "(8, 'hello', 52, 5.5, (2, 5, 7), 'hello world', 'jupyter notenook', 36)\n",
      "hello\n",
      "8\n"
     ]
    }
   ],
   "source": [
    "#tuple\n",
    "y=(8,\"hello\",52,5.5,(2,5,7),\"hello world\",\"jupyter notenook\",36)\n",
    "print(y)\n",
    "print(y[1])\n",
    "print(len(y))"
   ]
  },
  {
   "cell_type": "code",
   "execution_count": 52,
   "id": "af7a9a3b",
   "metadata": {},
   "outputs": [
    {
     "name": "stdout",
     "output_type": "stream",
     "text": [
      "(8, 'hello', 52, 5.5, (2, 5, 7), 'hello world', 'jupyter notenook', 36)\n",
      "8\n",
      "hello\n",
      "hello world\n",
      "('hello world', 'jupyter notenook')\n",
      "('hello world', 'jupyter notenook')\n",
      "jupyter notenook\n"
     ]
    }
   ],
   "source": [
    "y=(8,\"hello\",52,5.5,(2,5,7),\"hello world\",\"jupyter notenook\",36)\n",
    "print(y)\n",
    "print(len(y))\n",
    "print(y[1])\n",
    "print(y[-3])\n",
    "print(y[5:7:1])\n",
    "print(y[-3:-1])\n",
    "print(y[-2])"
   ]
  },
  {
   "cell_type": "code",
   "execution_count": 17,
   "id": "584d1584",
   "metadata": {},
   "outputs": [
    {
     "name": "stdout",
     "output_type": "stream",
     "text": [
      "jupyternotebook\n",
      "jupyter notebook\n"
     ]
    }
   ],
   "source": [
    "#tuple method\n",
    "#concatination\n",
    "a='jupyter'\n",
    "b='notebook'\n",
    "print(a+b)\n",
    "print(a+\" \"+b)"
   ]
  },
  {
   "cell_type": "code",
   "execution_count": 53,
   "id": "3f15a117",
   "metadata": {},
   "outputs": [
    {
     "name": "stdout",
     "output_type": "stream",
     "text": [
      "(100, 200, 100, 200, 100, 200, 100, 200, 100, 200)\n"
     ]
    }
   ],
   "source": [
    "z= (100,200)\n",
    "print(z*5)"
   ]
  },
  {
   "cell_type": "code",
   "execution_count": 55,
   "id": "b811e275",
   "metadata": {},
   "outputs": [
    {
     "name": "stdout",
     "output_type": "stream",
     "text": [
      "HELLO WORLD\n"
     ]
    }
   ],
   "source": [
    "#upper\n",
    "z=(\"hello world\",\"hi\",200)\n",
    "print(z[0].upper())"
   ]
  },
  {
   "cell_type": "code",
   "execution_count": 22,
   "id": "a6db767a",
   "metadata": {},
   "outputs": [
    {
     "name": "stdout",
     "output_type": "stream",
     "text": [
      "hello world\n"
     ]
    }
   ],
   "source": [
    "#lower\n",
    "x= \"HELLO WORLD\"\n",
    "print(x.lower())"
   ]
  },
  {
   "cell_type": "code",
   "execution_count": 60,
   "id": "c1b3d9e6",
   "metadata": {},
   "outputs": [
    {
     "data": {
      "text/plain": [
       "'hi'"
      ]
     },
     "execution_count": 60,
     "metadata": {},
     "output_type": "execute_result"
    }
   ],
   "source": [
    "#max\n",
    "y=(100,200,300)\n",
    "max(y)\n",
    "y = (\"hi\",\"hello\",\"bye\")\n",
    "max(y)"
   ]
  },
  {
   "cell_type": "code",
   "execution_count": 57,
   "id": "28a4e422",
   "metadata": {},
   "outputs": [
    {
     "data": {
      "text/plain": [
       "100"
      ]
     },
     "execution_count": 57,
     "metadata": {},
     "output_type": "execute_result"
    }
   ],
   "source": [
    "#min\n",
    "z=(100,200,300)\n",
    "min(z)"
   ]
  },
  {
   "cell_type": "code",
   "execution_count": 58,
   "id": "776e1899",
   "metadata": {},
   "outputs": [
    {
     "name": "stdout",
     "output_type": "stream",
     "text": [
      "3\n"
     ]
    }
   ],
   "source": [
    "#len\n",
    "x=(100,200,985)\n",
    "print(len(x))"
   ]
  },
  {
   "cell_type": "code",
   "execution_count": 59,
   "id": "9c6dc366",
   "metadata": {},
   "outputs": [
    {
     "name": "stdout",
     "output_type": "stream",
     "text": [
      "2\n"
     ]
    }
   ],
   "source": [
    "#count\n",
    "y=(100,200,100,200)\n",
    "print(y.count(100))"
   ]
  }
 ],
 "metadata": {
  "kernelspec": {
   "display_name": "Python 3 (ipykernel)",
   "language": "python",
   "name": "python3"
  },
  "language_info": {
   "codemirror_mode": {
    "name": "ipython",
    "version": 3
   },
   "file_extension": ".py",
   "mimetype": "text/x-python",
   "name": "python",
   "nbconvert_exporter": "python",
   "pygments_lexer": "ipython3",
   "version": "3.11.3"
  }
 },
 "nbformat": 4,
 "nbformat_minor": 5
}
